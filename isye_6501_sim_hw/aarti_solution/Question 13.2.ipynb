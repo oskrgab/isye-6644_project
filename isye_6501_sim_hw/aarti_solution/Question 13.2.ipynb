{
 "cells": [
  {
   "cell_type": "markdown",
   "metadata": {},
   "source": [
    "**Installing the packages**"
   ]
  },
  {
   "cell_type": "code",
   "execution_count": 1,
   "metadata": {},
   "outputs": [],
   "source": [
    "#!pip install simpy\n",
    "import random\n",
    "import simpy as sy"
   ]
  },
  {
   "cell_type": "markdown",
   "metadata": {},
   "source": [
    "**Intializing the variable and creating the simulation**"
   ]
  },
  {
   "cell_type": "code",
   "execution_count": 2,
   "metadata": {},
   "outputs": [
    {
     "name": "stdout",
     "output_type": "stream",
     "text": [
      "Avg waiting time is 8.104722\n"
     ]
    }
   ],
   "source": [
    "#Declaring the variables\n",
    "\n",
    "num_checkers = 10  # Number of Checkers \n",
    "num_scanners = 5   #Number of scanners \n",
    "wait_time = 0      #Initial Waiting Time set to 0\n",
    "total_pax = 1      #Total number of passengers initialized to 1\n",
    "num_pax = 100      #Overall Passengers set to 100\n",
    "runtime =  500     #End simulation when runtime crosses 500 mins\n",
    "\n",
    "arrival_rate = 50  #To simulate a busy airport\n",
    "check_rate = 0.75  #As mentioned in the \n",
    "\n",
    "class Airport(object):\n",
    "    def __init__(self, env, num_checkers, num_scanners):\n",
    "        self.env = env\n",
    "        self.checker = sy.Resource(env, num_checkers)  #Number of boarding pass checkers \n",
    "        self.scanners = []\n",
    "        for i in range(0, num_scanners):              #Number of scanners \n",
    "            self.scanners.append(sy.Resource(env))\n",
    "            \n",
    "    def BP_check(self, pax):\n",
    "        service_time = random.expovariate(1/check_rate)\n",
    "        yield self.env.timeout(service_time)\n",
    "        \n",
    "    def scan(self, pax):\n",
    "        scan_time = random.uniform(0.5, 1)\n",
    "        yield self.env.timeout(scan_time)\n",
    "        \n",
    "    def Passenger(self, env, number):\n",
    "        global wait_time #global average wait time\n",
    "        global total_pax  \n",
    "        arrival_time = env.now\n",
    "        scan_queue = []  #Every scanner has its own queue\n",
    "        \n",
    "        with self.checker.request() as request:\n",
    "            yield request\n",
    "            yield env.process(self.BP_check(number))\n",
    "            \n",
    "        for scanner in self.scanners:\n",
    "            scan_queue.append(len(scanner.queue))  #getting the length of each scanner \n",
    "            \n",
    "        #Find the shortest scanner queue\n",
    "        min_index = min(scan_queue)\n",
    "        short_queue_index = scan_queue.index(min_index)\n",
    "        \n",
    "        with self.scanners[short_queue_index].request() as request:\n",
    "            yield request\n",
    "            yield env.process(self.scan(number))\n",
    "            \n",
    "        exit_time = env.now\n",
    "        wait_time += (exit_time - arrival_time)\n",
    "        total_pax += 1\n",
    "\n",
    "    def setup(self, env, num_pax):\n",
    "        yield env.timeout(random.expovariate(arrival_rate)) \n",
    "        env.process(self.Passenger(env, num_pax))\n",
    "        \n",
    "        \n",
    "#Running the simulation\n",
    "env = sy.Environment()\n",
    "api = Airport(env, num_checkers, num_scanners)\n",
    "\n",
    "for i in range(0,num_pax):\n",
    "    env.process(api.setup(env, i))\n",
    "\n",
    "env.run(until = runtime)\n",
    "avg_wait_time = wait_time / total_pax\n",
    "\n",
    "print(\"Avg waiting time is %f\"  %avg_wait_time)\n"
   ]
  },
  {
   "cell_type": "code",
   "execution_count": 2,
   "metadata": {},
   "outputs": [],
   "source": []
  }
 ],
 "metadata": {
  "kernelspec": {
   "display_name": "Python 3",
   "language": "python",
   "name": "python3"
  },
  "language_info": {
   "codemirror_mode": {
    "name": "ipython",
    "version": 3
   },
   "file_extension": ".py",
   "mimetype": "text/x-python",
   "name": "python",
   "nbconvert_exporter": "python",
   "pygments_lexer": "ipython3",
   "version": "3.7.3"
  }
 },
 "nbformat": 4,
 "nbformat_minor": 2
}