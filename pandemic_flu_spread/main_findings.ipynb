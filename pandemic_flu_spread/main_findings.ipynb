{
 "cells": [
  {
   "cell_type": "code",
   "execution_count": 3,
   "outputs": [],
   "source": [
    "import pandas as pd\n",
    "import numpy as np\n",
    "from scipy.stats import binom\n",
    "from pandemic_flu_spread.pandemic_classes import (Student,\n",
    "                                                  InfectedStudent,\n",
    "                                                  RecoveredStudent,\n",
    "                                                  PandemicSim)\n",
    "import matplotlib.pyplot as plt\n",
    "import seaborn as sns\n",
    "from base import ROOT_DIR\n",
    "\n",
    "sns.set_style(\"whitegrid\")\n",
    "plots_folder = ROOT_DIR / \"pandemic_flu_spread/plots\""
   ],
   "metadata": {
    "collapsed": false,
    "pycharm": {
     "name": "#%%\n"
    }
   }
  },
  {
   "cell_type": "markdown",
   "metadata": {
    "collapsed": true,
    "pycharm": {
     "name": "#%% md\n"
    }
   },
   "source": [
    "# Pandemic Flu Spread"
   ]
  },
  {
   "cell_type": "markdown",
   "source": [
    "## 1 - Approach to solving the problem\n",
    "In this problem, the event that a kid gets infected by another kid is defined by a\n",
    "Bernoulli trial. Since we have i.i.d Bernoulli trials with 20 susceptible kids and a\n",
    "probability of infection of 0.02, the number of kids that could get infected by a single\n",
    "kid is a Binomial distribution.\n",
    "\n",
    "Taking the example of Tommy on the first day of the simulation, the distribution of\n",
    "kids that Tommy infects on day 1 is defined by the following:\n",
    "\n",
    "$$ Pr(X = k)  =  {{n}\\choose{k}} \\cdot p^kq^{n-k}$$\n",
    "\n",
    "for k = 0, 1, 2, …, n, where n = 20 and p = 0.02\n",
    "\n",
    "This results in the following Binomial distribution of infected kids on day one:"
   ],
   "metadata": {
    "collapsed": false,
    "pycharm": {
     "name": "#%% md\n"
    }
   }
  },
  {
   "cell_type": "code",
   "execution_count": 4,
   "outputs": [
    {
     "data": {
      "text/plain": "<Figure size 504x360 with 1 Axes>",
      "image/png": "[encoded data removed]"
     },
     "metadata": {},
     "output_type": "display_data"
    }
   ],
   "source": [
    "n, p = 20, 0.02\n",
    "\n",
    "fig, ax = plt.subplots(1, 1, figsize=(7, 5))\n",
    "\n",
    "x = np.arange(binom.ppf(0.01, n, p),\n",
    "              binom.ppf(0.99, n, p))\n",
    "\n",
    "ax.plot(x, binom.pmf(x, n, p), 'bo', ms=8, label='binom pmf')\n",
    "ax.vlines(x, 0, binom.pmf(x, n, p), colors='b', lw=5, alpha=0.5)\n",
    "ax.set_title(\"PMF of Infected Kids on Day 1\", fontsize=17)\n",
    "ax.set_xlabel(\"Number of Infected Kids\", fontsize=14)\n",
    "ax.tick_params(axis='both', which='major', labelsize=12)\n",
    "plt.savefig(plots_folder / \"pmf_infected_day_one.svg\")\n",
    "plt.show()"
   ],
   "metadata": {
    "collapsed": false,
    "pycharm": {
     "name": "#%%\n"
    }
   }
  },
  {
   "cell_type": "markdown",
   "source": [
    "This implies that Tommy can only infect at most one kid on the first day but there is a\n",
    "higher probability that he does not infect any:"
   ],
   "metadata": {
    "collapsed": false,
    "pycharm": {
     "name": "#%% md\n"
    }
   }
  },
  {
   "cell_type": "code",
   "execution_count": 10,
   "outputs": [
    {
     "name": "stdout",
     "output_type": "stream",
     "text": [
      "0.6676079717550946\n"
     ]
    }
   ],
   "source": [
    "print(binom.pmf(0, n, p))"
   ],
   "metadata": {
    "collapsed": false,
    "pycharm": {
     "name": "#%%\n"
    }
   }
  },
  {
   "cell_type": "markdown",
   "source": [
    "Thus the expected number of infected kids"
   ],
   "metadata": {
    "collapsed": false,
    "pycharm": {
     "name": "#%% md\n"
    }
   }
  },
  {
   "cell_type": "code",
   "execution_count": 7,
   "outputs": [
    {
     "name": "stdout",
     "output_type": "stream",
     "text": [
      "0.39999999999999974\n"
     ]
    }
   ],
   "source": [
    "print(binom.expect(args=(n, p)))"
   ],
   "metadata": {
    "collapsed": false,
    "pycharm": {
     "name": "#%%\n"
    }
   }
  },
  {
   "cell_type": "code",
   "execution_count": null,
   "outputs": [],
   "source": [],
   "metadata": {
    "collapsed": false,
    "pycharm": {
     "name": "#%%\n"
    }
   }
  }
 ],
 "metadata": {
  "kernelspec": {
   "display_name": "Python 3",
   "language": "python",
   "name": "python3"
  },
  "language_info": {
   "codemirror_mode": {
    "name": "ipython",
    "version": 2
   },
   "file_extension": ".py",
   "mimetype": "text/x-python",
   "name": "python",
   "nbconvert_exporter": "python",
   "pygments_lexer": "ipython2",
   "version": "2.7.6"
  }
 },
 "nbformat": 4,
 "nbformat_minor": 0
}